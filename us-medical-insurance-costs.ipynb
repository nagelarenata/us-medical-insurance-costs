{
 "cells": [
  {
   "cell_type": "markdown",
   "metadata": {},
   "source": [
    "<h1>U.S. Medical Insurance Costs"
   ]
  },
  {
   "cell_type": "markdown",
   "metadata": {},
   "source": [
    "<h2>Purposes of the project</h2>\n",
    "<ul>\n",
    "    <li>Number of medical records</li>\n",
    "    <li>The average age of patients</li>\n",
    "    <li>Does cost increase as BMI Increase?</li>\n",
    "    <li>Percentage of patients in each region</li>\n",
    "    <li>Average age who has at least one child</li>\n",
    "    <li>The total number of smokers</li>\n",
    "    <li>Percentage of smokers in Southwest</li>\n",
    "    <li>Percentage of smokers in Southeast</li>\n",
    "    <li>Percentage of smokers in Northwest</li>\n",
    "    <li>Percentage of smokers in Northeast</li>\n",
    "</ul>"
   ]
  },
  {
   "cell_type": "code",
   "execution_count": 9,
   "metadata": {},
   "outputs": [
    {
     "data": {
      "text/plain": [
       "1338"
      ]
     },
     "execution_count": 9,
     "metadata": {},
     "output_type": "execute_result"
    }
   ],
   "source": [
    "import csv\n",
    "\n",
    "def number_medical_records(file):\n",
    "    count = 0\n",
    "    with open(file, newline='') as insurance_csv:\n",
    "        insurance_reader=csv.DictReader(insurance_csv)\n",
    "        for row in insurance_reader:\n",
    "            count+=1\n",
    "    return count\n",
    "number_medical_records('insurance.csv')"
   ]
  },
  {
   "cell_type": "code",
   "execution_count": 2,
   "metadata": {},
   "outputs": [
    {
     "data": {
      "text/plain": [
       "39.2"
      ]
     },
     "execution_count": 2,
     "metadata": {},
     "output_type": "execute_result"
    }
   ],
   "source": [
    "def average_age_patients(file):\n",
    "    list_insurance = []\n",
    "    with open(file, newline='') as insurance_csv:\n",
    "        insurance_reader=csv.DictReader(insurance_csv)\n",
    "        for row in insurance_reader:\n",
    "            list_insurance.append(row)  \n",
    "    count_age = 0\n",
    "    for dic in list_insurance:\n",
    "        for key, value in dic.items():\n",
    "            if key == 'age':\n",
    "                count_age += float(value)\n",
    "    average_age = round(count_age / len(list_insurance), 1)\n",
    "    return average_age\n",
    "\n",
    "average_age_patients('insurance.csv')"
   ]
  },
  {
   "cell_type": "code",
   "execution_count": 6,
   "metadata": {},
   "outputs": [
    {
     "data": {
      "text/plain": [
       "'21.17% of smokers are from the Southwest.'"
      ]
     },
     "execution_count": 6,
     "metadata": {},
     "output_type": "execute_result"
    }
   ],
   "source": [
    "def percentage_patients_southwest(file):\n",
    "    list_insurance = []\n",
    "    with open(file, newline='') as insurance_csv:\n",
    "        insurance_reader=csv.DictReader(insurance_csv)\n",
    "        for row in insurance_reader:\n",
    "            list_insurance.append(row)\n",
    "    count_smokers_total=0\n",
    "    smokers_southwest = 0\n",
    "    for dic in list_insurance:\n",
    "        list_value = []\n",
    "        #calculating the total number of smokers\n",
    "        for value in dic.values():\n",
    "            list_value.append(value)\n",
    "            if value == 'yes':\n",
    "                count_smokers_total += 1\n",
    "        #calculating the number of smokers in the southwest\n",
    "        if 'yes' in list_value and 'southwest' in list_value:\n",
    "            smokers_southwest += 1\n",
    "    #calculating the percentage of smokers\n",
    "    percent_smokers_southwest = round(smokers_southwest*100 / count_smokers_total, 2)\n",
    "    return f'{percent_smokers_southwest}% of smokers are from the Southwest.'\n",
    "\n",
    "percentage_patients_southwest('insurance.csv')"
   ]
  },
  {
   "cell_type": "code",
   "execution_count": 7,
   "metadata": {},
   "outputs": [
    {
     "data": {
      "text/plain": [
       "'33.21% of smokers are from the Southeast.'"
      ]
     },
     "execution_count": 7,
     "metadata": {},
     "output_type": "execute_result"
    }
   ],
   "source": [
    "def percentage_patients_southeast(file):\n",
    "    list_insurance = []\n",
    "    with open(file, newline='') as insurance_csv:\n",
    "        insurance_reader=csv.DictReader(insurance_csv)\n",
    "        for row in insurance_reader:\n",
    "            list_insurance.append(row)\n",
    "    count_smokers_total=0\n",
    "    smokers_southeast = 0\n",
    "    for dic in list_insurance:\n",
    "        list_value = []\n",
    "        #calculating the total number of smokers\n",
    "        for value in dic.values():\n",
    "            list_value.append(value)\n",
    "            if value == 'yes':\n",
    "                count_smokers_total += 1\n",
    "        #calculating the number of smokers in the Southeast\n",
    "        if ('yes' in list_value) and ('southeast' in list_value):\n",
    "            smokers_southeast += 1\n",
    "    #calculating the percentage of smokers\n",
    "    percent_smokers_southeast = round(smokers_southeast*100 / count_smokers_total, 2)\n",
    "    return f'{percent_smokers_southeast}% of smokers are from the Southeast.'\n",
    "\n",
    "percentage_patients_southeast('insurance.csv')"
   ]
  },
  {
   "cell_type": "code",
   "execution_count": 10,
   "metadata": {},
   "outputs": [
    {
     "data": {
      "text/plain": [
       "'21.17% of smokers are from the Northwest.'"
      ]
     },
     "execution_count": 10,
     "metadata": {},
     "output_type": "execute_result"
    }
   ],
   "source": [
    "def percentage_patients_northwest(file):\n",
    "    list_insurance = []\n",
    "    with open(file, newline='') as insurance_csv:\n",
    "        insurance_reader=csv.DictReader(insurance_csv)\n",
    "        for row in insurance_reader:\n",
    "            list_insurance.append(row)\n",
    "    count_smokers_total=0\n",
    "    smokers_northwest = 0\n",
    "    for dic in list_insurance:\n",
    "        list_value = []\n",
    "        #calculating the total number of smokers\n",
    "        for value in dic.values():\n",
    "            list_value.append(value)\n",
    "            if value == 'yes':\n",
    "                count_smokers_total += 1\n",
    "        #calculating the number of smokers in the Northwest\n",
    "        if 'yes' in list_value and 'northwest' in list_value:\n",
    "            smokers_northwest += 1    \n",
    "    #calculating the percentage of smokers\n",
    "    percent_smokers_northwest = round(smokers_northwest*100 / count_smokers_total, 2)\n",
    "    return f'{percent_smokers_northwest}% of smokers are from the Northwest.'\n",
    "\n",
    "percentage_patients_northwest('insurance.csv')"
   ]
  },
  {
   "cell_type": "code",
   "execution_count": 11,
   "metadata": {},
   "outputs": [
    {
     "data": {
      "text/plain": [
       "'24.45% of smokers are from the Northeast.'"
      ]
     },
     "execution_count": 11,
     "metadata": {},
     "output_type": "execute_result"
    }
   ],
   "source": [
    "def percentage_patients_northeast(file):\n",
    "    list_insurance = []\n",
    "    with open(file, newline='') as insurance_csv:\n",
    "        insurance_reader=csv.DictReader(insurance_csv)\n",
    "        for row in insurance_reader:\n",
    "            list_insurance.append(row)\n",
    "    count_smokers_total=0\n",
    "    smokers_northeast = 0\n",
    "    for dic in list_insurance:\n",
    "        list_value = []\n",
    "        #calculating the total number of smokers\n",
    "        for value in dic.values():\n",
    "            list_value.append(value)\n",
    "            if value == 'yes':\n",
    "                count_smokers_total += 1\n",
    "        #calculating the number of smokers in the Northeasr\n",
    "        if 'yes' in list_value and 'northeast' in list_value:\n",
    "            smokers_northeast += 1\n",
    "    #calculating the percentage of smokers\n",
    "    percent_smokers_northeast = round(smokers_northeast*100 / count_smokers_total, 2)\n",
    "    return f'{percent_smokers_northeast}% of smokers are from the Northeast.'\n",
    "\n",
    "percentage_patients_northeast('insurance.csv')"
   ]
  },
  {
   "cell_type": "code",
   "execution_count": 13,
   "metadata": {},
   "outputs": [
    {
     "data": {
      "text/plain": [
       "\"There're 764 patients with at least one child.\""
      ]
     },
     "execution_count": 13,
     "metadata": {},
     "output_type": "execute_result"
    }
   ],
   "source": [
    "def average_age_at_leat_one_child(file):\n",
    "    list_insurance = []\n",
    "    with open(file, newline='') as insurance_csv:\n",
    "        insurance_reader=csv.DictReader(insurance_csv)\n",
    "        for row in insurance_reader:\n",
    "            list_insurance.append(row)\n",
    "    count_at_least_one_child = 0\n",
    "    for dic in list_insurance:\n",
    "        for key, value in dic.items():\n",
    "             if (key == 'children') and (value!='0'):\n",
    "                 count_at_least_one_child += 1\n",
    "    return f'There\\'re {count_at_least_one_child} patients with at least one child.'\n",
    "\n",
    "average_age_at_leat_one_child('insurance.csv')"
   ]
  },
  {
   "cell_type": "code",
   "execution_count": 20,
   "metadata": {},
   "outputs": [
    {
     "data": {
      "text/plain": [
       "(18809.82,\n",
       " 19942.22,\n",
       " 22491.18,\n",
       " 39880.27,\n",
       " 42753.62,\n",
       " 45467.79,\n",
       " 6269.94,\n",
       " 5665.4,\n",
       " 8226.09,\n",
       " 8549.95,\n",
       " 9670.44,\n",
       " 8179.66)"
      ]
     },
     "execution_count": 20,
     "metadata": {},
     "output_type": "execute_result"
    }
   ],
   "source": [
    "def does_increase_cost_bmi(file):\n",
    "    list_insurance = []\n",
    "    with open(file, newline='') as insurance_csv:\n",
    "        insurance_reader=csv.DictReader(insurance_csv)\n",
    "        for row in insurance_reader:\n",
    "            list_insurance.append(row)\n",
    "    list_bmi_underweight_and_nosmoker = []\n",
    "    list_bmi_underweight_and_smoker = []\n",
    "    list_bmi_normal_and_nosmoker = []\n",
    "    list_bmi_normal_and_smoker = []\n",
    "    list_bmi_overweight_and_nosmoker = []\n",
    "    list_bmi_overweight_and_smoker = []\n",
    "    list_bmi_obesity_one_and_nosmoker = []\n",
    "    list_bmi_obesity_one_and_smoker = []\n",
    "    list_bmi_obesity_two_and_nosmoker = []\n",
    "    list_bmi_obesity_two_and_smoker = []\n",
    "    list_bmi_obesity_three_and_nosmoker = []\n",
    "    list_bmi_obesity_three_and_smoker = []\n",
    "    count_smoker_and_bmi_underweight = 0\n",
    "    count_smoker_and_bmi_normal = 0\n",
    "    count_smoker_and_bmi_overweight = 0\n",
    "    count_smoker_and_bmi_obesity_one = 0\n",
    "    count_smoker_and_bmi_obesity_two = 0\n",
    "    count_smoker_and_bmi_obesity_three = 0\n",
    "    count_nosmoker_and_bmi_underweight = 0\n",
    "    count_nosmoker_and_bmi_normal = 0\n",
    "    count_nosmoker_and_bmi_overweight = 0\n",
    "    count_nosmoker_and_bmi_obesity_one = 0\n",
    "    count_nosmoker_and_bmi_obesity_two = 0\n",
    "    count_nosmoker_and_bmi_obesity_three = 0\n",
    "    for dic in list_insurance:\n",
    "        list_values = []\n",
    "        for value in dic.values():\n",
    "            list_values.append(value)\n",
    "        list_values[2] = float(list_values[2])\n",
    "        list_values[6] = float(list_values[6])\n",
    "        if 'yes' in list_values:\n",
    "           if (16 < list_values[2] <= 18.5):\n",
    "               list_bmi_underweight_and_smoker.append(list_values[6])\n",
    "               count_smoker_and_bmi_underweight += 1\n",
    "           elif (18.5 < list_values[2] <= 25):\n",
    "               list_bmi_normal_and_smoker.append(list_values[6])\n",
    "               count_smoker_and_bmi_normal += 1\n",
    "           elif (25 < list_values[2] <= 30):\n",
    "               list_bmi_overweight_and_smoker.append(list_values[6])\n",
    "               count_smoker_and_bmi_overweight += 1\n",
    "           elif (30 < list_values[2] <= 35):\n",
    "               list_bmi_obesity_one_and_smoker.append(list_values[6])\n",
    "               count_smoker_and_bmi_obesity_one += 1\n",
    "           elif (35 < list_values[2] <= 40):\n",
    "               list_bmi_obesity_two_and_smoker.append(list_values[6])\n",
    "               count_smoker_and_bmi_obesity_two += 1\n",
    "           elif (list_values[2] > 40):\n",
    "               list_bmi_obesity_three_and_smoker.append(list_values[6])\n",
    "               count_smoker_and_bmi_obesity_three += 1\n",
    "        else:\n",
    "            if (16 < list_values[2] <= 18.5):\n",
    "                list_bmi_underweight_and_nosmoker.append(list_values[6])\n",
    "                count_nosmoker_and_bmi_underweight += 1\n",
    "            elif (18.5 < list_values[2] <= 25): \n",
    "                list_bmi_normal_and_nosmoker.append(list_values[6])\n",
    "                count_nosmoker_and_bmi_normal += 1\n",
    "            elif (25 < list_values[2] <= 30):\n",
    "                list_bmi_overweight_and_nosmoker.append(list_values[6])\n",
    "                count_nosmoker_and_bmi_overweight += 1\n",
    "            elif (30 < list_values[2] <= 35):\n",
    "                list_bmi_obesity_one_and_nosmoker.append(list_values[6])\n",
    "                count_nosmoker_and_bmi_obesity_one += 1\n",
    "            elif (35 < list_values[2] <= 40):\n",
    "                list_bmi_obesity_two_and_nosmoker.append(list_values[6])\n",
    "                count_nosmoker_and_bmi_obesity_two += 1\n",
    "            elif (list_values[2] > 40):\n",
    "                list_bmi_obesity_three_and_nosmoker.append(list_values[6])\n",
    "                count_nosmoker_and_bmi_obesity_three += 1\n",
    "        count_under_smoker = 0\n",
    "        count_normal_smoker=0\n",
    "        count_overweight_smoker=0\n",
    "        count_obesity_one_and_smoker = 0\n",
    "        count_obesity_two_smoker = 0\n",
    "        count_obesity_three_smoker = 0\n",
    "        for index in list_bmi_underweight_and_smoker:\n",
    "            count_under_smoker += index\n",
    "        for index in list_bmi_normal_and_smoker:\n",
    "            count_normal_smoker += index\n",
    "        for index in list_bmi_overweight_and_smoker:\n",
    "            count_overweight_smoker += index\n",
    "        for index in list_bmi_obesity_one_and_smoker:\n",
    "            count_obesity_one_and_smoker += index\n",
    "        for index in list_bmi_obesity_two_and_smoker:\n",
    "            count_obesity_two_smoker += index\n",
    "        for index in list_bmi_obesity_three_and_smoker:\n",
    "            count_obesity_three_smoker += index\n",
    "\n",
    "        count_under_no_smoker = 0\n",
    "        count_normal_no_smoker=0\n",
    "        count_overweight_no_smoker=0\n",
    "        count_obesity_one_and_no_smoker = 0\n",
    "        count_obesity_two_no_smoker = 0\n",
    "        count_obesity_three_no_smoker = 0\n",
    "        for index in list_bmi_underweight_and_nosmoker:\n",
    "            count_under_no_smoker += index\n",
    "        for index in list_bmi_normal_and_nosmoker:\n",
    "            count_normal_no_smoker += index\n",
    "        for index in list_bmi_overweight_and_nosmoker:\n",
    "            count_overweight_no_smoker += index\n",
    "        for index in list_bmi_obesity_one_and_nosmoker:\n",
    "            count_obesity_one_and_no_smoker += index\n",
    "        for index in list_bmi_obesity_two_and_nosmoker:\n",
    "            count_obesity_two_no_smoker += index\n",
    "        for index in list_bmi_obesity_three_and_nosmoker:\n",
    "            count_obesity_three_no_smoker += index\n",
    "\n",
    "        if len(list_bmi_underweight_and_smoker)!=0:\n",
    "            average_smoker_underweight_cost = count_under_smoker/len(list_bmi_underweight_and_smoker)\n",
    "        else:\n",
    "            average_smoker_underweight_cost = 0\n",
    "        if len(list_bmi_normal_and_smoker)!=0:\n",
    "            average_smoker_normal_weight_cost = count_normal_smoker/len(list_bmi_normal_and_smoker)\n",
    "        else:\n",
    "            average_smoker_normal_weight_cost = 0\n",
    "        if len(list_bmi_overweight_and_smoker)!=0:\n",
    "            average_smoker_overweight_cost = count_overweight_smoker/len(list_bmi_overweight_and_smoker)\n",
    "        else:\n",
    "            average_smoker_overweight_cost = 0\n",
    "        if len(list_bmi_obesity_one_and_smoker)!=0:\n",
    "            average_smoker_obesityone_cost = count_obesity_one_and_smoker/len(list_bmi_obesity_one_and_smoker)\n",
    "        else:\n",
    "            average_smoker_obesityone_cost = 0\n",
    "        if len(list_bmi_obesity_two_and_smoker)!=0:\n",
    "            average_smoker_obesitytwo_cost = count_obesity_two_smoker/len(list_bmi_obesity_two_and_smoker)\n",
    "        else:\n",
    "            average_smoker_obesitytwo_cost = 0\n",
    "        if len(list_bmi_obesity_three_and_smoker)!=0:\n",
    "            average_smoker_obesity_three_cost = count_obesity_three_smoker/len(list_bmi_obesity_three_and_smoker)\n",
    "        else:\n",
    "            average_smoker_obesity_three_cost = 0\n",
    "\n",
    "        if len(list_bmi_underweight_and_nosmoker)!=0:\n",
    "            average_nosmoker_underweight_cost = count_under_smoker/len(list_bmi_underweight_and_nosmoker)\n",
    "        else:\n",
    "            average_nosmoker_underweight_cost = 0\n",
    "        if len(list_bmi_normal_and_nosmoker)!=0:\n",
    "            average_nosmoker_normal_weight_cost = count_normal_smoker/len(list_bmi_normal_and_nosmoker)\n",
    "        else:\n",
    "            average_nosmoker_normal_weight_cost = 0\n",
    "        if len(list_bmi_overweight_and_nosmoker)!=0:\n",
    "            average_nosmoker_overweight_cost = count_overweight_no_smoker/len(list_bmi_overweight_and_nosmoker)\n",
    "        else:\n",
    "            average_nosmoker_overweight_cost = 0\n",
    "        if len(list_bmi_obesity_one_and_nosmoker)!=0:\n",
    "            average_nosmoker_obesityone_cost = count_obesity_one_and_no_smoker/len(list_bmi_obesity_one_and_nosmoker)\n",
    "        else:\n",
    "            average_nosmoker_obesityone_cost = 0\n",
    "        if len(list_bmi_obesity_two_and_nosmoker)!=0:\n",
    "            average_nosmoker_obesitytwo_cost = count_obesity_two_no_smoker/len(list_bmi_obesity_two_and_nosmoker)\n",
    "        else:\n",
    "            average_nosmoker_obesitytwo_cost = 0\n",
    "        if len(list_bmi_obesity_three_and_nosmoker)!=0:\n",
    "            average_nosmoker_obesity_three_cost = count_obesity_three_no_smoker/len(list_bmi_obesity_three_and_nosmoker)\n",
    "        else:\n",
    "            average_nosmoker_obesity_three_cost = 0\n",
    "    return round(average_smoker_underweight_cost, 2), round(average_smoker_normal_weight_cost, 2), round(average_smoker_overweight_cost, 2), round(average_smoker_obesityone_cost, 2), round(average_smoker_obesitytwo_cost, 2), round(average_smoker_obesity_three_cost, 2), round(average_nosmoker_underweight_cost, 2), round(average_nosmoker_normal_weight_cost, 2), round(average_nosmoker_overweight_cost,2), round(average_nosmoker_obesityone_cost, 2), round(average_nosmoker_obesitytwo_cost, 2), round(average_nosmoker_obesity_three_cost, 2)    \n",
    "        \n",
    "\n",
    "does_increase_cost_bmi('insurance.csv')"
   ]
  },
  {
   "cell_type": "code",
   "execution_count": null,
   "metadata": {},
   "outputs": [],
   "source": []
  },
  {
   "cell_type": "code",
   "execution_count": null,
   "metadata": {},
   "outputs": [],
   "source": []
  }
 ],
 "metadata": {
  "kernelspec": {
   "display_name": "Python 3 (ipykernel)",
   "language": "python",
   "name": "python3"
  },
  "language_info": {
   "codemirror_mode": {
    "name": "ipython",
    "version": 3
   },
   "file_extension": ".py",
   "mimetype": "text/x-python",
   "name": "python",
   "nbconvert_exporter": "python",
   "pygments_lexer": "ipython3",
   "version": "3.9.18"
  }
 },
 "nbformat": 4,
 "nbformat_minor": 4
}
